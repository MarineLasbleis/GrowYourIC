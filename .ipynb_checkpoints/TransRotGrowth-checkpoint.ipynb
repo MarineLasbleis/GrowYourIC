{
 "cells": [
  {
   "cell_type": "markdown",
   "metadata": {},
   "source": [
    "# Slow translation + rotation"
   ]
  },
  {
   "cell_type": "code",
   "execution_count": 1,
   "metadata": {
    "collapsed": true
   },
   "outputs": [],
   "source": [
    "%matplotlib inline\n",
    "\n",
    "# import statements\n",
    "import numpy as np\n",
    "import matplotlib.pyplot as plt #for figures\n",
    "from mpl_toolkits.basemap import Basemap #to render maps\n",
    "import math\n",
    "\n",
    "import positions\n",
    "import geodyn, geodyn_trg, geodyn_static\n",
    "import plot_data\n",
    "import data\n",
    "\n",
    "plt.rcParams['figure.figsize'] = (15.0, 5.0) #size of figures"
   ]
  },
  {
   "cell_type": "markdown",
   "metadata": {},
   "source": [
    "Translation velocity in this case is of same order of magnitude than growth rate.\n",
    "\n",
    "We added some rotation, to see the effect on the symetry of the obtained results.\n",
    "\n",
    "For example, let's use v_t = 0.5 v_g\n",
    "\n",
    "- growth: constant growth rate. exponent_growth = 1.\n",
    "- growth rate: rICB/age_icb\n",
    "- velocity_translation: 0.5 growth rate"
   ]
  },
  {
   "cell_type": "code",
   "execution_count": 5,
   "metadata": {
    "collapsed": false
   },
   "outputs": [
    {
     "name": "stdout",
     "output_type": "stream",
     "text": [
      "The growth rate is 1.22e-06 km/years and the translation velocity 9.77e-07 km/years\n"
     ]
    }
   ],
   "source": [
    "age_ic_dim = 1e9 #in years\n",
    "rICB_dim = 1221. #in km\n",
    "v_g_dim = rICB_dim/age_ic_dim # in km/years\n",
    "translation_velocity_dim = 0.8 *v_g_dim #in km/years\n",
    "print(\"The growth rate is {0:.2e} km/years and the translation velocity {1:.2e} km/years\".format(v_g_dim, translation_velocity_dim))"
   ]
  },
  {
   "cell_type": "code",
   "execution_count": null,
   "metadata": {
    "collapsed": false
   },
   "outputs": [],
   "source": [
    "print(\"In the code, we need to use dimensionless parameters: \\n rICB = 1. \\n age_ic = 1. \\n omega = 0\\n velocity_amplitude = {0:.2f} \\n exponent_growth = 1.\".format(translation_velocity_dim*age_ic_dim/rICB_dim))"
   ]
  },
  {
   "cell_type": "code",
   "execution_count": 3,
   "metadata": {
    "collapsed": false
   },
   "outputs": [
    {
     "ename": "NameError",
     "evalue": "name 'translation_velocity_dim' is not defined",
     "output_type": "error",
     "traceback": [
      "\u001b[0;31m---------------------------------------------------------------------------\u001b[0m",
      "\u001b[0;31mNameError\u001b[0m                                 Traceback (most recent call last)",
      "\u001b[0;32m<ipython-input-3-713b1d24015f>\u001b[0m in \u001b[0;36m<module>\u001b[0;34m()\u001b[0m\n\u001b[1;32m      4\u001b[0m \u001b[0mage_ic\u001b[0m \u001b[0;34m=\u001b[0m \u001b[0;36m1.\u001b[0m\u001b[0;34m\u001b[0m\u001b[0m\n\u001b[1;32m      5\u001b[0m \u001b[0momega\u001b[0m \u001b[0;34m=\u001b[0m \u001b[0;36m0.1\u001b[0m\u001b[0;34m*\u001b[0m\u001b[0mnp\u001b[0m\u001b[0;34m.\u001b[0m\u001b[0mpi\u001b[0m \u001b[0;31m#-0.5*np.pi # Rotation rates has to be in ]-np.pi, np.pi[\u001b[0m\u001b[0;34m\u001b[0m\u001b[0m\n\u001b[0;32m----> 6\u001b[0;31m \u001b[0mvelocity_amplitude\u001b[0m \u001b[0;34m=\u001b[0m \u001b[0mtranslation_velocity_dim\u001b[0m\u001b[0;34m*\u001b[0m\u001b[0mage_ic_dim\u001b[0m\u001b[0;34m/\u001b[0m\u001b[0mrICB_dim\u001b[0m\u001b[0;34m\u001b[0m\u001b[0m\n\u001b[0m\u001b[1;32m      7\u001b[0m \u001b[0mvelocity_center\u001b[0m \u001b[0;34m=\u001b[0m \u001b[0;34m[\u001b[0m\u001b[0;36m0.\u001b[0m\u001b[0;34m,\u001b[0m \u001b[0;36m100.\u001b[0m\u001b[0;34m]\u001b[0m\u001b[0;31m#center of the eastern hemisphere\u001b[0m\u001b[0;34m\u001b[0m\u001b[0m\n\u001b[1;32m      8\u001b[0m \u001b[0mvelocity\u001b[0m \u001b[0;34m=\u001b[0m \u001b[0mgeodyn_trg\u001b[0m\u001b[0;34m.\u001b[0m\u001b[0mtranslation_velocity\u001b[0m\u001b[0;34m(\u001b[0m\u001b[0mvelocity_center\u001b[0m\u001b[0;34m,\u001b[0m \u001b[0mvelocity_amplitude\u001b[0m\u001b[0;34m)\u001b[0m\u001b[0;34m\u001b[0m\u001b[0m\n",
      "\u001b[0;31mNameError\u001b[0m: name 'translation_velocity_dim' is not defined"
     ]
    }
   ],
   "source": [
    "geodynModel = geodyn_trg.TranslationGrowthRotation()\n",
    "units = None #we give them already dimensionless parameters. \n",
    "rICB = 1.\n",
    "age_ic = 1.\n",
    "omega = 0.1*np.pi #-0.5*np.pi # Rotation rates has to be in ]-np.pi, np.pi[\n",
    "velocity_amplitude = translation_velocity_dim*age_ic_dim/rICB_dim\n",
    "velocity_center = [0., 100.]#center of the eastern hemisphere\n",
    "velocity = geodyn_trg.translation_velocity(velocity_center, velocity_amplitude)\n",
    "exponent_growth = 1."
   ]
  },
  {
   "cell_type": "code",
   "execution_count": null,
   "metadata": {
    "collapsed": false
   },
   "outputs": [],
   "source": [
    "parameters = {'units': units,\n",
    "              'time_unit': age_ic_dim, #in years\n",
    "              'length_unit': rICB_dim*1e3, #in meters\n",
    "              'rICB': rICB, \n",
    "              'tau_ic':age_ic,\n",
    "              'vt': velocity,\n",
    "              'exponent_growth': exponent_growth,\n",
    "              'omega': omega}\n",
    "geodynModel.set_parameters(parameters)\n",
    "geodynModel.define_units()"
   ]
  },
  {
   "cell_type": "markdown",
   "metadata": {},
   "source": [
    "## Visualise flow lines\n",
    "with perfect sampling at the equator"
   ]
  },
  {
   "cell_type": "code",
   "execution_count": null,
   "metadata": {
    "collapsed": false
   },
   "outputs": [],
   "source": [
    "npoints = 100 #number of points in the x direction for the data set. \n",
    "data_set = data.PerfectSamplingEquator(npoints, rICB = 1.)\n",
    "data_set.method = \"bt_point\"\n",
    "proxy = geodyn.evaluate_proxy(data_set, geodynModel, proxy_type=\"age\", verbose = False)\n",
    "data_set.plot_c_vec(geodynModel, proxy=proxy, cm=plt.cm.get_cmap('RdYlBu'), nameproxy=\"age (Myears)\")"
   ]
  },
  {
   "cell_type": "markdown",
   "metadata": {},
   "source": [
    "## Random repartition (in the first 100km)\n",
    "\n",
    "### with proxy = age"
   ]
  },
  {
   "cell_type": "code",
   "execution_count": null,
   "metadata": {
    "collapsed": false
   },
   "outputs": [],
   "source": [
    "# random data set\n",
    "data_set_random = data.RandomData(3000)\n",
    "data_set_random.method = \"bt_point\"\n",
    "\n",
    "proxy_random = geodyn.evaluate_proxy(data_set_random, geodynModel, proxy_type=\"age\", verbose=False)\n",
    "r, t, p = data_set_random.extract_rtp(\"bottom_turning_point\")\n",
    "dist = positions.angular_distance_to_point(t, p, *velocity_center)\n",
    "\n",
    "## map\n",
    "m, fig = plot_data.setting_map() \n",
    "cm = plt.cm.get_cmap('RdYlBu')\n",
    "x, y = m(p, t)\n",
    "sc = m.scatter(x, y, c=proxy_random, zorder=10, cmap=cm, edgecolors='none')\n",
    "plt.title(\"Dataset: {},\\n geodynamic model: {}\".format(data_set_random.name, geodynModel.name))\n",
    "cbar = plt.colorbar(sc)\n",
    "cbar.set_label(\"age (Myears)\")\n",
    "\n",
    "## phi and distance plots\n",
    "fig, ax = plt.subplots(1,2, sharey=True)\n",
    "cm2 = plt.cm.get_cmap('winter')\n",
    "sc1 = ax[0].scatter(p, proxy_random, c=abs(t), cmap=cm2, vmin =-0, vmax =90)\n",
    "ax[0].set_xlabel(\"longitude\")\n",
    "ax[0].set_ylabel(\"age (Myears)\")\n",
    "sc2 = ax[1].scatter(dist, proxy_random, c=abs(t), cmap=cm2, vmin=-0, vmax =90)\n",
    "ax[1].set_xlabel(\"angular distance to ({}, {})\".format(*velocity_center))\n",
    "fig.suptitle(\"Dataset: {},\\n geodynamic model: {}\".format(data_set_random.name, geodynModel.name))\n",
    "cbar = fig.colorbar(sc2)\n",
    "cbar.set_label(\"longitude: abs(theta)\")"
   ]
  },
  {
   "cell_type": "markdown",
   "metadata": {},
   "source": [
    "### with proxy = growth rate"
   ]
  },
  {
   "cell_type": "code",
   "execution_count": null,
   "metadata": {
    "collapsed": false
   },
   "outputs": [],
   "source": [
    "# random data set\n",
    "data_set_random = data.RandomData(3000)\n",
    "data_set_random.method = \"bt_point\"\n",
    "\n",
    "proxy_random = geodyn.evaluate_proxy(data_set_random, geodynModel, proxy_type=\"growth rate\", verbose=False)\n",
    "r, t, p = data_set_random.extract_rtp(\"bottom_turning_point\")\n",
    "dist = positions.angular_distance_to_point(t, p, *velocity_center)\n",
    "\n",
    "## map\n",
    "m, fig = plot_data.setting_map() \n",
    "cm = plt.cm.get_cmap('RdYlBu')\n",
    "x, y = m(p, t)\n",
    "sc = m.scatter(x, y, c=proxy_random, zorder=10, cmap=cm, edgecolors='none')\n",
    "plt.title(\"Dataset: {},\\n geodynamic model: {}\".format(data_set_random.name, geodynModel.name))\n",
    "cbar = plt.colorbar(sc)\n",
    "cbar.set_label(\"growth rate (Myears)\")\n",
    "\n",
    "## phi and distance plots\n",
    "fig, ax = plt.subplots(1,2, sharey=True)\n",
    "cm2 = plt.cm.get_cmap('winter')\n",
    "sc1 = ax[0].scatter(p, proxy_random, c=abs(t), cmap=cm2, vmin =-0, vmax =90)\n",
    "ax[0].set_xlabel(\"longitude\")\n",
    "ax[0].set_ylabel(\"growth rate\")\n",
    "sc2 = ax[1].scatter(dist, proxy_random, c=abs(t), cmap=cm2, vmin=-0, vmax =90)\n",
    "ax[1].set_xlabel(\"angular distance to ({}, {})\".format(*velocity_center))\n",
    "fig.suptitle(\"Dataset: {},\\n geodynamic model: {}\".format(data_set_random.name, geodynModel.name))\n",
    "cbar = fig.colorbar(sc2)\n",
    "cbar.set_label(\"longitude: abs(theta)\")\n",
    "ax[0].set_ylim([0., 2.5e-3])"
   ]
  },
  {
   "cell_type": "code",
   "execution_count": null,
   "metadata": {
    "collapsed": true
   },
   "outputs": [],
   "source": []
  },
  {
   "cell_type": "code",
   "execution_count": null,
   "metadata": {
    "collapsed": true
   },
   "outputs": [],
   "source": []
  }
 ],
 "metadata": {
  "kernelspec": {
   "display_name": "Python 3",
   "language": "python",
   "name": "python3"
  },
  "language_info": {
   "codemirror_mode": {
    "name": "ipython",
    "version": 3
   },
   "file_extension": ".py",
   "mimetype": "text/x-python",
   "name": "python",
   "nbconvert_exporter": "python",
   "pygments_lexer": "ipython3",
   "version": "3.5.1"
  }
 },
 "nbformat": 4,
 "nbformat_minor": 1
}
