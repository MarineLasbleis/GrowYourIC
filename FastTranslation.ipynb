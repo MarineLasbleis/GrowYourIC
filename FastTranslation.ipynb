{
 "cells": [
  {
   "cell_type": "markdown",
   "metadata": {},
   "source": [
    "# Fast translation: Alboussiere et al. 2010"
   ]
  },
  {
   "cell_type": "code",
   "execution_count": 1,
   "metadata": {
    "collapsed": true
   },
   "outputs": [],
   "source": [
    "%matplotlib inline\n",
    "\n",
    "# import statements\n",
    "import numpy as np\n",
    "import matplotlib.pyplot as plt #for figures\n",
    "from mpl_toolkits.basemap import Basemap #to render maps\n",
    "import math\n",
    "\n",
    "import positions\n",
    "import geodyn, geodyn_trg, geodyn_static\n",
    "import plot_data\n",
    "import data\n",
    "\n",
    "plt.rcParams['figure.figsize'] = (15.0, 5.0) #size of figures"
   ]
  },
  {
   "cell_type": "markdown",
   "metadata": {},
   "source": [
    "In the case of fast translation, the point is \n",
    "- to compare with results from Geballe 2013\n",
    "- to look at the spatial repartition of data\n",
    "- can we inverse for obtaining the direction of the translation axis?\n",
    "\n",
    "## Parameters"
   ]
  },
  {
   "cell_type": "code",
   "execution_count": 2,
   "metadata": {
    "collapsed": false
   },
   "outputs": [
    {
     "name": "stdout",
     "output_type": "stream",
     "text": [
      "The translation recycles the inner core material in 97.16 million years\n"
     ]
    }
   ],
   "source": [
    "age_ic_dim = 1e9 #in years\n",
    "rICB_dim = 1221. #in km\n",
    "translation_velocity_dim = 4e-10 #m.s, value for today's Earth with Q_cmb = 10TW (see Alboussiere et al. 2010)\n",
    "time_translation = rICB_dim*1e3/translation_velocity_dim /(np.pi*1e7)\n",
    "print(\"The translation recycles the inner core material in {0:.2f} million years\".format(time_translation/1e6))"
   ]
  },
  {
   "cell_type": "code",
   "execution_count": 3,
   "metadata": {
    "collapsed": false
   },
   "outputs": [
    {
     "name": "stdout",
     "output_type": "stream",
     "text": [
      "In the code, we need to use dimensionless parameters: \n",
      " rICB = 1. \n",
      " age_ic = 1. \n",
      " omega = 0\n",
      " velocity_amplitude = 10.29\n"
     ]
    }
   ],
   "source": [
    "print(\"In the code, we need to use dimensionless parameters: \\n rICB = 1. \\n age_ic = 1. \\n omega = 0\\n velocity_amplitude = {0:.2f}\".format(translation_velocity_dim*age_ic_dim*np.pi*1e7/rICB_dim/1e3))"
   ]
  },
  {
   "cell_type": "code",
   "execution_count": 4,
   "metadata": {
    "collapsed": true
   },
   "outputs": [],
   "source": [
    "geodynModel = geodyn_trg.TranslationGrowthRotation()\n",
    "units = None #we give them already dimensionless parameters. \n",
    "rICB = 1.\n",
    "age_ic = 1.\n",
    "omega = 0. #-0.5*np.pi # Rotation rates has to be in ]-np.pi, np.pi[\n",
    "velocity_amplitude = translation_velocity_dim*age_ic_dim*np.pi*1e7/rICB_dim/1e3\n",
    "velocity_center = [0., 100.]#center of the eastern hemisphere\n",
    "velocity = geodyn_trg.translation_velocity(velocity_center, velocity_amplitude)\n",
    "exponent_growth = 0.3 #does not matter here. Better to use it small for fast translation, as growth rate will be smaller."
   ]
  },
  {
   "cell_type": "code",
   "execution_count": 5,
   "metadata": {
    "collapsed": false
   },
   "outputs": [],
   "source": [
    "parameters = {'units': units,\n",
    "              'time_unit': age_ic_dim, #in years\n",
    "              'length_unit': rICB_dim*1e3, #in meters\n",
    "              'rICB': rICB, \n",
    "              'tau_ic':age_ic,\n",
    "              'vt': velocity,\n",
    "              'exponent_growth': exponent_growth,\n",
    "              'omega': omega}\n",
    "geodynModel.set_parameters(parameters)\n",
    "geodynModel.define_units()"
   ]
  },
  {
   "cell_type": "markdown",
   "metadata": {},
   "source": [
    "## Visualise flow lines\n",
    "with perfect sampling at the equator"
   ]
  },
  {
   "cell_type": "code",
   "execution_count": null,
   "metadata": {
    "collapsed": false
   },
   "outputs": [],
   "source": [
    "npoints = 100 #number of points in the x direction for the data set. \n",
    "data_set = data.PerfectSamplingEquator(npoints, rICB = 1.)\n",
    "data_set.method = \"bt_point\"\n",
    "proxy = geodyn.evaluate_proxy(data_set, geodynModel, proxy_type=\"age\", verbose = False)\n",
    "data_set.plot_c_vec(geodynModel, proxy=proxy, cm=plt.cm.get_cmap('RdYlBu'), nameproxy=\"age (Myears)\")"
   ]
  },
  {
   "cell_type": "code",
   "execution_count": null,
   "metadata": {
    "collapsed": true
   },
   "outputs": [],
   "source": []
  }
 ],
 "metadata": {
  "kernelspec": {
   "display_name": "Python 3",
   "language": "python",
   "name": "python3"
  },
  "language_info": {
   "codemirror_mode": {
    "name": "ipython",
    "version": 3
   },
   "file_extension": ".py",
   "mimetype": "text/x-python",
   "name": "python",
   "nbconvert_exporter": "python",
   "pygments_lexer": "ipython3",
   "version": "3.5.1"
  }
 },
 "nbformat": 4,
 "nbformat_minor": 1
}
