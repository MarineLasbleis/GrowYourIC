{
 "cells": [
  {
   "cell_type": "markdown",
   "metadata": {},
   "source": [
    "# Let's Grow your Own Inner Core!"
   ]
  },
  {
   "cell_type": "markdown",
   "metadata": {},
   "source": [
    "### Choose a model in the list: \n",
    "    - geodyn_trg.TranslationGrowthRotation()\n",
    "    - geodyn_static.Hemispheres()\n",
    "\n",
    "### Choose a proxy type:\n",
    "    - age\n",
    "    - position\n",
    "    - phi\n",
    "    - theta\n",
    "    - growth rate\n",
    "\n",
    "### set the parameters for the model : geodynModel.set_parameters(parameters)\n",
    "### set the units : geodynModel.define_units()\n",
    "\n",
    "### Choose a data set:\n",
    "    - data.SeismicFromFile(filename) # Lauren's data set\n",
    "    - data.RandomData(numbers_of_points)\n",
    "    - data.PerfectSamplingEquator(numbers_of_points)\n",
    "        organized on a cartesian grid. numbers_of_points is the number of points along the x or y axis. The total number of points is numbers_of_points**2*pi/4\n",
    "        - as a special plot function to show streamlines: plot_c_vec(self,modelgeodyn)\n",
    "    - data.PerfectSamplingEquatorRadial(Nr, Ntheta)\n",
    "        same than below, but organized on a polar grid, not a cartesian grid.\n",
    "\n",
    "\n",
    "### Extract the info:\n",
    "    - calculate the proxy value for all points of the data set: geodyn.evaluate_proxy(data_set, geodynModel)\n",
    "    - extract the positions as numpy arrays: extract_rtp or extract_xyz\n",
    "    - calculate other variables: positions.angular_distance_to_point(t,p, t_point, p_point)"
   ]
  },
  {
   "cell_type": "code",
   "execution_count": null,
   "metadata": {
    "collapsed": false
   },
   "outputs": [],
   "source": [
    "%matplotlib inline\n",
    "\n",
    "# import statements\n",
    "import numpy as np\n",
    "import matplotlib.pyplot as plt #for figures\n",
    "from mpl_toolkits.basemap import Basemap #to render maps\n",
    "import math\n",
    "import json #to write dict with parameters\n",
    "\n",
    "import GrowYourIC\n",
    "from GrowYourIC import positions, geodyn, geodyn_trg, geodyn_static, plot_data, data\n",
    "\n",
    "plt.rcParams['figure.figsize'] = (8.0, 3.0) #size of figures\n",
    "cm = plt.cm.get_cmap('viridis')\n",
    "cm2 = plt.cm.get_cmap('winter')"
   ]
  },
  {
   "cell_type": "markdown",
   "metadata": {},
   "source": [
    "## Define the geodynamical model"
   ]
  },
  {
   "cell_type": "markdown",
   "metadata": {},
   "source": [
    "Un-comment one of the model"
   ]
  },
  {
   "cell_type": "code",
   "execution_count": null,
   "metadata": {
    "collapsed": false
   },
   "outputs": [],
   "source": [
    "## un-comment one of them\n",
    "geodynModel = geodyn_trg.TranslationGrowthRotation() #can do all the models presented in the paper\n",
    "# geodynModel = geodyn_static.Hemispheres() #this is a static model, only hemispheres. "
   ]
  },
  {
   "cell_type": "markdown",
   "metadata": {},
   "source": [
    "Change the values of the parameters to get the model you want (here, parameters for .TranslationGrowthRotation())"
   ]
  },
  {
   "cell_type": "code",
   "execution_count": null,
   "metadata": {
    "collapsed": false
   },
   "outputs": [],
   "source": [
    "age_ic_dim = 1e9 #in years\n",
    "rICB_dim = 1221. #in km\n",
    "v_g_dim = rICB_dim/age_ic_dim # in km/years #growth rate\n",
    "print(\"Growth rate is {:.2e} km/years\".format(v_g_dim))\n",
    "v_g_dim_seconds = v_g_dim*1e3/(np.pi*1e7)\n",
    "\n",
    "translation_velocity_dim = 0.8*v_g_dim_seconds#4e-10 #0.8*v_g_dim_seconds#4e-10 #m.s, value for today's Earth with Q_cmb = 10TW (see Alboussiere et al. 2010)\n",
    "time_translation = rICB_dim*1e3/translation_velocity_dim /(np.pi*1e7)\n",
    "maxAge = 2.*time_translation/1e6\n",
    "print(\"The translation recycles the inner core material in {0:.2e} million years\".format(maxAge))\n",
    "print(\"Translation velocity is {0:.2e} km/years\".format(translation_velocity_dim*np.pi*1e7/1e3))\n",
    "\n",
    "units = None #we give them already dimensionless parameters. \n",
    "rICB = 1.\n",
    "age_ic = 1.\n",
    "omega = 0.#0.5*np.pi/200e6*age_ic_dim#0.5*np.pi #0. #0.5*np.pi/200e6*age_ic_dim# 0.#0.5*np.pi#0.#0.5*np.pi/200e6*age_ic_dim #0. #-0.5*np.pi # Rotation rates has to be in ]-np.pi, np.pi[\n",
    "print(\"Rotation rate is {:.2e}\".format(omega))\n",
    "velocity_amplitude = translation_velocity_dim*age_ic_dim*np.pi*1e7/rICB_dim/1e3\n",
    "velocity_center = [0., 100.]#center of the eastern hemisphere\n",
    "velocity = geodyn_trg.translation_velocity(velocity_center, velocity_amplitude)\n",
    "exponent_growth = 1.#0.1#1\n",
    "\n",
    "print(v_g_dim, velocity_amplitude, omega/age_ic_dim*180/np.pi*1e6)"
   ]
  },
  {
   "cell_type": "markdown",
   "metadata": {},
   "source": [
    "Define a proxy type, and a proxy name (to be used in the figures to annotate the axes)\n",
    "\n",
    "You can re-define it later if you want (or define another proxy_type2 if needed)"
   ]
  },
  {
   "cell_type": "code",
   "execution_count": null,
   "metadata": {
    "collapsed": false
   },
   "outputs": [],
   "source": [
    "proxy_type = \"age\"#\"growth rate\"\n",
    "proxy_name = \"age (Myears)\" #growth rate (km/Myears)\"\n",
    "proxy_lim = [0, maxAge] #or None\n",
    "#proxy_lim = None\n",
    "\n",
    "fig_name = \"figures/test_\" #to name the figures\n",
    "\n",
    "print(rICB, age_ic, velocity_amplitude, omega, exponent_growth,  proxy_type)\n",
    "print(velocity)"
   ]
  },
  {
   "cell_type": "markdown",
   "metadata": {},
   "source": [
    "### Parameters for the geodynamical model\n",
    "\n",
    "This will input the different parameters in the model."
   ]
  },
  {
   "cell_type": "code",
   "execution_count": null,
   "metadata": {
    "collapsed": false
   },
   "outputs": [],
   "source": [
    "parameters = dict({'units': units,\n",
    "              'rICB': rICB, \n",
    "              'tau_ic':age_ic,\n",
    "              'vt': velocity,\n",
    "              'exponent_growth': exponent_growth,\n",
    "              'omega': omega,\n",
    "              'proxy_type': proxy_type})\n",
    "geodynModel.set_parameters(parameters)\n",
    "geodynModel.define_units()\n",
    "\n",
    "param = parameters\n",
    "param['vt'] = parameters['vt'].tolist() #for json serialization\n",
    "# write file with parameters, readable with json, byt also human-readable\n",
    "with open(fig_name+'parameters.json', 'w') as f:\n",
    "    json.dump(param, f)\n",
    "    \n",
    "print(parameters)"
   ]
  },
  {
   "cell_type": "markdown",
   "metadata": {},
   "source": [
    "## Different data set and visualisations"
   ]
  },
  {
   "cell_type": "markdown",
   "metadata": {},
   "source": [
    "### Perfect sampling at the equator (to visualise the flow lines)\n",
    "\n",
    "You can add more points to get a better precision."
   ]
  },
  {
   "cell_type": "code",
   "execution_count": null,
   "metadata": {
    "collapsed": false
   },
   "outputs": [],
   "source": [
    "npoints = 30 #number of points in the x direction for the data set. \n",
    "data_set = data.PerfectSamplingEquator(npoints, rICB = 1.)\n",
    "data_set.method = \"bt_point\"\n",
    "proxy = geodyn.evaluate_proxy(data_set, geodynModel, proxy_type=\"age\", verbose = False)\n",
    "data_set.plot_c_vec(geodynModel, proxy=proxy, cm=cm, nameproxy=\"age (Myears)\")\n",
    "plt.savefig(fig_name+\"equatorial_plot.pdf\", bbox_inches='tight')"
   ]
  },
  {
   "cell_type": "markdown",
   "metadata": {},
   "source": [
    "### Perfect sampling in the first 100km (to visualise the depth evolution)"
   ]
  },
  {
   "cell_type": "code",
   "execution_count": null,
   "metadata": {
    "collapsed": false
   },
   "outputs": [],
   "source": [
    "data_meshgrid = data.Equator_upperpart(150,150)\n",
    "data_meshgrid.method = \"bt_point\"\n",
    "proxy_meshgrid = geodyn.evaluate_proxy(data_meshgrid, geodynModel, proxy_type=proxy_type, verbose = False)\n",
    "#r, t, p = data_meshgrid.extract_rtp(\"bottom_turning_point\")\n",
    "\n",
    "fig3, ax3 = plt.subplots(figsize=(8, 2))\n",
    "X, Y, Z  = data_meshgrid.mesh_RPProxy(proxy_meshgrid)\n",
    "sc = ax3.contourf(Y, rICB_dim*(1.-X), Z, 100, cmap=cm)\n",
    "sc2 = ax3.contour(sc, levels=sc.levels[::15], colors = \"k\")\n",
    "ax3.set_ylim(-0, 120)\n",
    "fig3.gca().invert_yaxis()\n",
    "ax3.set_xlim(-180,180)\n",
    "cbar = fig3.colorbar(sc)\n",
    "#cbar.set_clim(0, maxAge)\n",
    "cbar.set_label(proxy_name)\n",
    "ax3.set_xlabel(\"longitude\")\n",
    "ax3.set_ylabel(\"depth below ICB (km)\")\n",
    "\n",
    "plt.savefig(fig_name+\"meshgrid.pdf\", bbox_inches='tight')"
   ]
  },
  {
   "cell_type": "code",
   "execution_count": null,
   "metadata": {
    "collapsed": false
   },
   "outputs": [],
   "source": [
    "npoints = 50 #number of points in the x direction for the data set. \n",
    "data_set = data.PerfectSamplingSurface(npoints, rICB = 1., depth=0.01)\n",
    "data_set.method = \"bt_point\"\n",
    "proxy_surface = geodyn.evaluate_proxy(data_set, geodynModel, proxy_type=proxy_type, verbose = False)\n",
    "#r, t, p = data_set.extract_rtp(\"bottom_turning_point\")\n",
    "X, Y, Z  = data_set.mesh_TPProxy(proxy_surface)\n",
    "\n",
    "## map\n",
    "m, fig = plot_data.setting_map()\n",
    "\n",
    "\n",
    "y, x = m(Y, X)\n",
    "sc = m.contourf(y, x, Z, 30, cmap=cm, zorder=2, edgecolors='none')\n",
    "plt.title(\"Dataset: {},\\n geodynamic model: {}\".format(data_set.name, geodynModel.name))\n",
    "cbar = plt.colorbar(sc)\n",
    "cbar.set_label(proxy_name)\n",
    "fig.savefig(fig_name+\"map_surface.pdf\", bbox_inches='tight')"
   ]
  },
  {
   "cell_type": "markdown",
   "metadata": {},
   "source": [
    "### Random data set, in the first 100km  - bottom turning point only\n",
    "\n",
    "#### Calculate the data"
   ]
  },
  {
   "cell_type": "code",
   "execution_count": null,
   "metadata": {
    "collapsed": false
   },
   "outputs": [],
   "source": [
    "# random data set\n",
    "data_set_random = data.RandomData(3000)\n",
    "data_set_random.method = \"bt_point\"\n",
    "\n",
    "proxy_random = geodyn.evaluate_proxy(data_set_random, geodynModel, proxy_type=proxy_type, verbose=False)\n",
    "if proxy_type == \"age\":\n",
    "    ## domain size and Vp\n",
    "    proxy_random_size = geodyn.evaluate_proxy(data_set_random, geodynModel, proxy_type=\"domain_size\", verbose=False)\n",
    "    proxy_random_dV = geodyn.evaluate_proxy(data_set_random, geodynModel, proxy_type=\"dV_V\", verbose=False)"
   ]
  },
  {
   "cell_type": "code",
   "execution_count": null,
   "metadata": {
    "collapsed": false
   },
   "outputs": [],
   "source": [
    "r, t, p = data_set_random.extract_rtp(\"bottom_turning_point\")\n",
    "dist = positions.angular_distance_to_point(t, p, *velocity_center)\n",
    "\n",
    "## map\n",
    "m, fig = plot_data.setting_map() \n",
    "x, y = m(p, t)\n",
    "sc = m.scatter(x, y, c=proxy_random,s=8, zorder=10, cmap=cm, edgecolors='none')\n",
    "plt.title(\"Dataset: {},\\n geodynamic model: {}\".format(data_set_random.name, geodynModel.name))\n",
    "cbar = plt.colorbar(sc)\n",
    "cbar.set_label(proxy_name)\n",
    "fig.savefig(fig_name+data_set_random.shortname+\"_map.pdf\", bbox_inches='tight')\n",
    "\n",
    "## phi and distance plots\n",
    "fig, ax = plt.subplots(2,2, figsize=(8.0, 5.0))\n",
    "sc1 = ax[0,0].scatter(p, proxy_random, c=abs(t),s=3, cmap=cm2, vmin =-0, vmax =90, linewidth=0)\n",
    "phi = np.linspace(-180,180, 50)\n",
    "#analytic_equator = np.maximum(2*np.sin((phi-10)*np.pi/180.)*rICB_dim*1e3/translation_velocity_dim /(np.pi*1e7)/1e6,0.)\n",
    "#ax[0,0].plot(phi,analytic_equator, 'r', linewidth=2)\n",
    "ax[0,0].set_xlabel(\"longitude\")\n",
    "ax[0,0].set_ylabel(proxy_name)\n",
    "if proxy_lim is not None:\n",
    "    ax[0,0].set_ylim(proxy_lim)\n",
    "sc2 = ax[0,1].scatter(dist, proxy_random, c=abs(t), cmap=cm2, vmin=-0, vmax =90, s=3, linewidth=0)\n",
    "ax[0,1].set_xlabel(\"angular distance to ({}, {})\".format(*velocity_center))\n",
    "phi = np.linspace(-90,90, 100)\n",
    "if proxy_type == \"age\":\n",
    "    analytic_equator = np.maximum(2*np.sin((phi-10)*np.pi/180.)*rICB_dim*1e3/translation_velocity_dim /(np.pi*1e7)/1e6,0.)\n",
    "    ax[0,0].plot(phi,analytic_equator, 'r', linewidth=2)\n",
    "    analytic_equator = np.maximum(2*np.sin((-phi)*np.pi/180.)*rICB_dim*1e3/translation_velocity_dim /(np.pi*1e7)/1e6,0.)\n",
    "    ax[0,1].plot(phi+90,analytic_equator, 'r', linewidth=2)\n",
    "ax[0,1].set_xlim([0,180])\n",
    "ax[0,0].set_xlim([-180,180])\n",
    "cbar = fig.colorbar(sc1)\n",
    "cbar.set_label(\"longitude: abs(theta)\")\n",
    "if proxy_lim is not None:\n",
    "    ax[0,1].set_ylim(proxy_lim)\n",
    "## figure with domain size and Vp\n",
    "if proxy_type == \"age\":\n",
    "    sc3 = ax[1,0].scatter(dist, proxy_random_size, c=abs(t), cmap=cm2, vmin =-0, vmax =90, s=3, linewidth=0)\n",
    "    ax[1,0].set_xlabel(\"angular distance to ({}, {})\".format(*velocity_center))\n",
    "    ax[1,0].set_ylabel(\"domain size (m)\")\n",
    "    ax[1,0].set_xlim([0,180])\n",
    "    ax[1,0].set_ylim([0, 2500.000])\n",
    "    sc4 = ax[1,1].scatter(dist, proxy_random_dV, c=abs(t), cmap=cm2, vmin=-0, vmax =90, s=3, linewidth=0)\n",
    "    ax[1,1].set_xlabel(\"angular distance to ({}, {})\".format(*velocity_center))\n",
    "    ax[1,1].set_ylabel(\"dV/V\")\n",
    "    ax[1,1].set_xlim([0,180])\n",
    "    ax[1,1].set_ylim([-0.017, -0.002])\n",
    "fig.savefig(fig_name +data_set_random.shortname+ '_long_dist.pdf', bbox_inches='tight')\n",
    "\n",
    "fig, ax = plt.subplots(figsize=(8, 2))\n",
    "sc=ax.scatter(p,rICB_dim*(1.-r), c=proxy_random, s=10,cmap=cm, linewidth=0)\n",
    "ax.set_ylim(-0,120)\n",
    "fig.gca().invert_yaxis()\n",
    "ax.set_xlim(-180,180)\n",
    "cbar = fig.colorbar(sc)\n",
    "if proxy_lim is not None:\n",
    "    cbar.set_clim(0, maxAge)\n",
    "ax.set_xlabel(\"longitude\")\n",
    "ax.set_ylabel(\"depth below ICB (km)\")\n",
    "cbar.set_label(proxy_name)\n",
    "\n",
    "fig.savefig(fig_name+data_set_random.shortname+\"_depth.pdf\", bbox_inches='tight')"
   ]
  },
  {
   "cell_type": "markdown",
   "metadata": {
    "collapsed": false
   },
   "source": [
    "### Real Data set from Waszek paper"
   ]
  },
  {
   "cell_type": "code",
   "execution_count": null,
   "metadata": {
    "collapsed": false
   },
   "outputs": [],
   "source": [
    "## real data set\n",
    "data_set = data.SeismicFromFile(\"../GrowYourIC/data/WD11.dat\")\n",
    "data_set.method = \"bt_point\"\n",
    " \n",
    "proxy2 = geodyn.evaluate_proxy(data_set, geodynModel, proxy_type=proxy_type, verbose=False)\n",
    "\n",
    "if proxy_type == \"age\":\n",
    "## domain size and DV/V\n",
    "    proxy_size = geodyn.evaluate_proxy(data_set, geodynModel, proxy_type=\"domain_size\", verbose=False)\n",
    "    proxy_dV = geodyn.evaluate_proxy(data_set, geodynModel, proxy_type=\"dV_V\", verbose=False)"
   ]
  },
  {
   "cell_type": "code",
   "execution_count": null,
   "metadata": {
    "collapsed": false
   },
   "outputs": [],
   "source": [
    "r, t, p = data_set.extract_rtp(\"bottom_turning_point\")\n",
    "dist = positions.angular_distance_to_point(t, p, *velocity_center)\n",
    "\n",
    "## map\n",
    "m, fig = plot_data.setting_map() \n",
    "x, y = m(p, t)\n",
    "sc = m.scatter(x, y, c=proxy2,s=8, zorder=10, cmap=cm, edgecolors='none')\n",
    "plt.title(\"Dataset: {},\\n geodynamic model: {}\".format(data_set.name, geodynModel.name))\n",
    "cbar = plt.colorbar(sc)\n",
    "cbar.set_label(proxy_name)\n",
    "fig.savefig(fig_name+data_set.shortname+\"_map.pdf\", bbox_inches='tight')\n",
    "\n",
    "## phi and distance plots\n",
    "fig, ax = plt.subplots(2,2, figsize=(8.0, 5.0))\n",
    "sc1 = ax[0,0].scatter(p, proxy2, c=abs(t),s=3, cmap=cm2, vmin =-0, vmax =90, linewidth=0)\n",
    "phi = np.linspace(-180,180, 50)\n",
    "#analytic_equator = np.maximum(2*np.sin((phi-10)*np.pi/180.)*rICB_dim*1e3/translation_velocity_dim /(np.pi*1e7)/1e6,0.)\n",
    "#ax[0,0].plot(phi,analytic_equator, 'r', linewidth=2)\n",
    "ax[0,0].set_xlabel(\"longitude\")\n",
    "ax[0,0].set_ylabel(proxy_name)\n",
    "if proxy_lim is not None:\n",
    "    ax[0,0].set_ylim(proxy_lim)\n",
    "sc2 = ax[0,1].scatter(dist, proxy2, c=abs(t), cmap=cm2, vmin=-0, vmax =90, s=3, linewidth=0)\n",
    "ax[0,1].set_xlabel(\"angular distance to ({}, {})\".format(*velocity_center))\n",
    "phi = np.linspace(-90,90, 100)\n",
    "if proxy_type == \"age\":\n",
    "    analytic_equator = np.maximum(2*np.sin((-phi)*np.pi/180.)*rICB_dim*1e3/translation_velocity_dim /(np.pi*1e7)/1e6,0.)\n",
    "    ax[0,1].plot(phi+90,analytic_equator, 'r', linewidth=2)\n",
    "    analytic_equator = np.maximum(2*np.sin((phi-10)*np.pi/180.)*rICB_dim*1e3/translation_velocity_dim /(np.pi*1e7)/1e6,0.)\n",
    "    ax[0,0].plot(phi,analytic_equator, 'r', linewidth=2)\n",
    "ax[0,1].set_xlim([0,180])\n",
    "ax[0,0].set_xlim([-180,180])\n",
    "cbar = fig.colorbar(sc1)\n",
    "cbar.set_label(\"longitude: abs(theta)\")\n",
    "if proxy_lim is not None:\n",
    "    ax[0,1].set_ylim(proxy_lim)\n",
    "## figure with domain size and Vp\n",
    "if proxy_type == \"age\":\n",
    "    sc3 = ax[1,0].scatter(dist, proxy_size, c=abs(t), cmap=cm2, vmin =-0, vmax =90, s=3, linewidth=0)\n",
    "    ax[1,0].set_xlabel(\"angular distance to ({}, {})\".format(*velocity_center))\n",
    "    ax[1,0].set_ylabel(\"domain size (m)\")\n",
    "    ax[1,0].set_xlim([0,180])\n",
    "    ax[1,0].set_ylim([0, 2500.000])\n",
    "    sc4 = ax[1,1].scatter(dist, proxy_dV, c=abs(t), cmap=cm2, vmin=-0, vmax =90, s=3, linewidth=0)\n",
    "    ax[1,1].set_xlabel(\"angular distance to ({}, {})\".format(*velocity_center))\n",
    "    ax[1,1].set_ylabel(\"dV/V\")\n",
    "    ax[1,1].set_xlim([0,180])\n",
    "    ax[1,1].set_ylim([-0.017, -0.002])\n",
    "fig.savefig(fig_name + data_set.shortname+'_long_dist.pdf', bbox_inches='tight')\n",
    "\n",
    "fig, ax = plt.subplots(figsize=(8, 2))\n",
    "sc=ax.scatter(p,rICB_dim*(1.-r), c=proxy2, s=10,cmap=cm, linewidth=0)\n",
    "ax.set_ylim(-0,120)\n",
    "fig.gca().invert_yaxis()\n",
    "ax.set_xlim(-180,180)\n",
    "cbar = fig.colorbar(sc)\n",
    "if proxy_lim is not None:\n",
    "    cbar.set_clim(0, maxAge)\n",
    "ax.set_xlabel(\"longitude\")\n",
    "ax.set_ylabel(\"depth below ICB (km)\")\n",
    "cbar.set_label(proxy_name)\n",
    "\n",
    "fig.savefig(fig_name+data_set.shortname+\"_depth.pdf\", bbox_inches='tight')"
   ]
  },
  {
   "cell_type": "code",
   "execution_count": null,
   "metadata": {
    "collapsed": false
   },
   "outputs": [],
   "source": []
  },
  {
   "cell_type": "code",
   "execution_count": null,
   "metadata": {
    "collapsed": true
   },
   "outputs": [],
   "source": []
  },
  {
   "cell_type": "code",
   "execution_count": null,
   "metadata": {
    "collapsed": true
   },
   "outputs": [],
   "source": []
  }
 ],
 "metadata": {
  "kernelspec": {
   "display_name": "Python 3",
   "language": "python",
   "name": "python3"
  },
  "language_info": {
   "codemirror_mode": {
    "name": "ipython",
    "version": 3
   },
   "file_extension": ".py",
   "mimetype": "text/x-python",
   "name": "python",
   "nbconvert_exporter": "python",
   "pygments_lexer": "ipython3",
   "version": "3.5.1"
  }
 },
 "nbformat": 4,
 "nbformat_minor": 0
}
