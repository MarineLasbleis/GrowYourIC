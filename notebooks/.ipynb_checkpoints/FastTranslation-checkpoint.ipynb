{
 "cells": [
  {
   "cell_type": "markdown",
   "metadata": {},
   "source": [
    "# Fast translation: Alboussiere et al. 2010"
   ]
  },
  {
   "cell_type": "code",
   "execution_count": 1,
   "metadata": {
    "collapsed": false
   },
   "outputs": [],
   "source": [
    "%matplotlib inline\n",
    "\n",
    "# import statements\n",
    "import numpy as np\n",
    "import matplotlib.pyplot as plt #for figures\n",
    "from mpl_toolkits.basemap import Basemap #to render maps\n",
    "import math\n",
    "\n",
    "import GrowYourIC\n",
    "from GrowYourIC import positions, geodyn, geodyn_trg, geodyn_static, plot_data, data\n",
    "\n",
    "\n",
    "plt.rcParams['figure.figsize'] = (8.0, 3.0) #size of figures\n",
    "cm = plt.cm.get_cmap('viridis')\n",
    "cm2 = plt.cm.get_cmap('winter')"
   ]
  },
  {
   "cell_type": "markdown",
   "metadata": {},
   "source": [
    "In the case of fast translation, the point is \n",
    "- to compare with results from Geballe 2013\n",
    "- to look at the spatial repartition of data\n",
    "- can we inverse for obtaining the direction of the translation axis?\n",
    "\n",
    "## Parameters"
   ]
  },
  {
   "cell_type": "code",
   "execution_count": 2,
   "metadata": {
    "collapsed": false
   },
   "outputs": [
    {
     "name": "stdout",
     "output_type": "stream",
     "text": [
      "The translation recycles the inner core material in 194.33 million years\n",
      "Translation velocity is 1.26e-05 km/years\n"
     ]
    }
   ],
   "source": [
    "age_ic_dim = 1e9 #in years\n",
    "rICB_dim = 1221. #in km\n",
    "translation_velocity_dim = 4e-10 #m.s, value for today's Earth with Q_cmb = 10TW (see Alboussiere et al. 2010)\n",
    "time_translation = rICB_dim*1e3/translation_velocity_dim /(np.pi*1e7)\n",
    "maxAge = 2.*time_translation/1e6\n",
    "print(\"The translation recycles the inner core material in {0:.2f} million years\".format(maxAge))\n",
    "print(\"Translation velocity is {0:.2e} km/years\".format(translation_velocity_dim*np.pi*1e7/1e3))"
   ]
  },
  {
   "cell_type": "code",
   "execution_count": null,
   "metadata": {
    "collapsed": false
   },
   "outputs": [
    {
     "name": "stdout",
     "output_type": "stream",
     "text": [
      "In the code, we need to use dimensionless parameters: \n",
      " rICB = 1. \n",
      " age_ic = 1. \n",
      " omega = 0\n",
      " velocity_amplitude = 10.29\n"
     ]
    }
   ],
   "source": [
    "print(\"In the code, we need to use dimensionless parameters: \\n rICB = 1. \\n age_ic = 1. \\n omega = 0\\n velocity_amplitude = {0:.2f}\".format(translation_velocity_dim*age_ic_dim*np.pi*1e7/rICB_dim/1e3))"
   ]
  },
  {
   "cell_type": "code",
   "execution_count": null,
   "metadata": {
    "collapsed": true
   },
   "outputs": [],
   "source": [
    "geodynModel = geodyn_trg.TranslationGrowthRotation()\n",
    "units = None #we give them already dimensionless parameters. \n",
    "rICB = 1.\n",
    "age_ic = 1.\n",
    "omega = 0. #-0.5*np.pi # Rotation rates has to be in ]-np.pi, np.pi[\n",
    "velocity_amplitude = translation_velocity_dim*age_ic_dim*np.pi*1e7/rICB_dim/1e3\n",
    "velocity_center = [0., 100.]#center of the eastern hemisphere\n",
    "velocity = geodyn_trg.translation_velocity(velocity_center, velocity_amplitude)\n",
    "exponent_growth = 0.3 #does not matter here. Better to use it small for fast translation, as growth rate will be smaller."
   ]
  },
  {
   "cell_type": "code",
   "execution_count": null,
   "metadata": {
    "collapsed": false
   },
   "outputs": [],
   "source": [
    "parameters = {'units': units,\n",
    "              'time_unit': age_ic_dim, #in years\n",
    "              'length_unit': rICB_dim*1e3, #in meters\n",
    "              'rICB': rICB, \n",
    "              'tau_ic':age_ic,\n",
    "              'vt': velocity,\n",
    "              'exponent_growth': exponent_growth,\n",
    "              'omega': omega}\n",
    "geodynModel.set_parameters(parameters)\n",
    "geodynModel.define_units()"
   ]
  },
  {
   "cell_type": "markdown",
   "metadata": {},
   "source": [
    "## Visualise flow lines\n",
    "with perfect sampling at the equator"
   ]
  },
  {
   "cell_type": "code",
   "execution_count": null,
   "metadata": {
    "collapsed": false
   },
   "outputs": [],
   "source": [
    "npoints = 100 #number of points in the x direction for the data set. \n",
    "data_set = data.PerfectSamplingEquator(npoints, rICB = 1.)\n",
    "data_set.method = \"bt_point\"\n",
    "proxy = geodyn.evaluate_proxy(data_set, geodynModel, proxy_type=\"age\", verbose = False)\n",
    "sc = data_set.plot_c_vec(geodynModel, proxy=proxy, cm=cm, nameproxy=\"age (Myears)\")\n",
    "plt.savefig(\"figures/flow_Fast_translation_random.pdf\", bbox_inches='tight')"
   ]
  },
  {
   "cell_type": "markdown",
   "metadata": {},
   "source": [
    "## Random repartition (in the first 100km)"
   ]
  },
  {
   "cell_type": "code",
   "execution_count": null,
   "metadata": {
    "collapsed": false
   },
   "outputs": [],
   "source": [
    "# random data set\n",
    "data_set_random = data.RandomData(3000)\n",
    "data_set_random.method = \"bt_point\"\n",
    "\n",
    "proxy_random = geodyn.evaluate_proxy(data_set_random, geodynModel, proxy_type=\"age\", verbose=False)\n",
    "## domain size and Vp\n",
    "geodynModel.proxy_type = \"domain_size\"\n",
    "proxy_random_size = geodyn.evaluate_proxy(data_set_random, geodynModel, proxy_type=\"domain_size\", verbose=False)\n",
    "geodynModel.proxy_type = \"dV_V\"\n",
    "proxy_random_dV = geodyn.evaluate_proxy(data_set_random, geodynModel, proxy_type=\"dV_V\", verbose=False)"
   ]
  },
  {
   "cell_type": "code",
   "execution_count": null,
   "metadata": {
    "collapsed": false
   },
   "outputs": [],
   "source": [
    "r, t, p = data_set_random.extract_rtp(\"bottom_turning_point\")\n",
    "dist = positions.angular_distance_to_point(t, p, *velocity_center)\n",
    "\n",
    "## map\n",
    "m, fig = plot_data.setting_map() \n",
    "x, y = m(p, t)\n",
    "sc = m.scatter(x, y, c=proxy_random,s=8, zorder=10, cmap=cm, edgecolors='none')\n",
    "plt.title(\"Dataset: {},\\n geodynamic model: {}\".format(data_set_random.name, geodynModel.name))\n",
    "cbar = plt.colorbar(sc)\n",
    "cbar.set_label(\"age (Myears)\")\n",
    "fig.savefig('figures/map_fast_translation_random.pdf', bbox_inches='tight')\n",
    "\n",
    "## phi and distance plots\n",
    "fig, ax = plt.subplots(2,2, figsize=(8.0, 5.0))\n",
    "\n",
    "sc1 = ax[0,0].scatter(p, proxy_random, c=abs(t),s=3, cmap=cm2, vmin =-0, vmax =90, linewidth=0)\n",
    "phi = np.linspace(-180,180, 50)\n",
    "analytic_equator = np.maximum(2*np.sin((phi-10)*np.pi/180.)*rICB_dim*1e3/translation_velocity_dim /(np.pi*1e7)/1e6,0.)\n",
    "ax[0,0].plot(phi,analytic_equator, 'r', linewidth=2)\n",
    "ax[0,0].set_xlabel(\"longitude\")\n",
    "ax[0,0].set_ylabel(\"age (Myears)\")\n",
    "ax[0,0].set_ylim([-2,200])\n",
    "sc2 = ax[0,1].scatter(dist, proxy_random, c=abs(t), cmap=cm2, vmin=-0, vmax =90, s=3, linewidth=0)\n",
    "ax[0,1].set_xlabel(\"angular distance to ({}, {})\".format(*velocity_center))\n",
    "phi = np.linspace(-90,90, 100)\n",
    "analytic_equator = np.maximum(2*np.sin((-phi)*np.pi/180.)*rICB_dim*1e3/translation_velocity_dim /(np.pi*1e7)/1e6,0.)\n",
    "ax[0,1].plot(phi+90,analytic_equator, 'r', linewidth=2)\n",
    "ax[0,1].set_xlim([0,180])\n",
    "ax[0,0].set_xlim([-180,180])\n",
    "#fig.suptitle(\"Dataset: {},\\n geodynamic model: {}\".format(data_set_random.name, geodynModel.name))\n",
    "cbar = fig.colorbar(sc1)\n",
    "cbar.set_label(\"longitude: abs(theta)\")\n",
    "ax[0,1].set_ylim([-2,200])\n",
    "sc3 = ax[1,0].scatter(dist, proxy_random_size, c=abs(t), cmap=cm2, vmin =-0, vmax =90, s=3, linewidth=0)\n",
    "ax[1,0].set_xlabel(\"angular distance to ({}, {})\".format(*velocity_center))\n",
    "ax[1,0].set_ylabel(\"domain size (m)\")\n",
    "ax[1,0].set_xlim([0,180])\n",
    "ax[1,0].set_ylim([0, 2500.000])\n",
    "sc4 = ax[1,1].scatter(dist, proxy_random_dV, c=abs(t), cmap=cm2, vmin=-0, vmax =90, s=3, linewidth=0)\n",
    "ax[1,1].set_xlabel(\"angular distance to ({}, {})\".format(*velocity_center))\n",
    "ax[1,1].set_ylabel(\"dV/V\")\n",
    "ax[1,1].set_xlim([0,180])\n",
    "ax[1,1].set_ylim([-0.017, -0.002])\n",
    "\n",
    "fig.savefig('figures/fast_translation_random_long_dist.pdf', bbox_inches='tight')\n",
    "\n",
    "fig, ax = plt.subplots(figsize=(8, 2))\n",
    "sc=ax.scatter(p,rICB_dim*(1.-r), c=proxy_random, s=10,cmap=cm, linewidth=0)\n",
    "ax.set_ylim(-0,120)\n",
    "fig.gca().invert_yaxis()\n",
    "ax.set_xlim(-180,180)\n",
    "cbar = fig.colorbar(sc)\n",
    "cbar.set_clim(0, maxAge)\n",
    "\n",
    "fig.savefig(\"figures/depth_fast-translation_random.pdf\", bbox_inches='tight')"
   ]
  },
  {
   "cell_type": "code",
   "execution_count": null,
   "metadata": {
    "collapsed": false
   },
   "outputs": [],
   "source": []
  },
  {
   "cell_type": "code",
   "execution_count": null,
   "metadata": {
    "collapsed": false
   },
   "outputs": [],
   "source": []
  },
  {
   "cell_type": "code",
   "execution_count": null,
   "metadata": {
    "collapsed": false
   },
   "outputs": [],
   "source": [
    "fig, ax = plt.subplots(4,1, sharex=True, sharey=True,figsize=(8, 8))\n",
    "depth = (1-r)*1221.\n",
    "ax[0].scatter(dist, proxy_random, s=1,cmap=cm, linewidth=0)\n",
    "mask_0_30 = depth<30\n",
    "mask_30_575 = np.ma.getmask(np.ma.masked_outside(depth,30, 57.5))\n",
    "mask_575_100 = depth>57.5\n",
    "#print(mask_0_30.shape, dist.shape, np.ma.array(dist, mask=mask_0_30))\n",
    "ax[1].scatter(np.ma.array(dist, mask=mask_0_30), proxy_random, s=1,cmap=cm, linewidth=0)\n",
    "ax[2].scatter(np.ma.array(dist, mask=mask_30_575), proxy_random, s=1,cmap=cm, linewidth=0)\n",
    "ax[3].scatter(np.ma.array(dist, mask=mask_575_100), proxy_random, s=1,cmap=cm, linewidth=0)\n",
    "#ax[1].scatter(np.ma.array(p,mask=mask_south),rICB_dim*(1.-r), c=proxy2, s=10,cmap=cm, linewidth=0.5)\n",
    "#mask_north = t<-10\n",
    "#ax[2].scatter(np.ma.array(p,mask=mask_north),rICB_dim*(1.-r), c=proxy2, s=10,cmap=cm, linewidth=0.5)\n",
    "##mask_equator = np.ma.getmask(np.ma.masked_outside(t, -15,15))\n",
    "#ax[3].scatter(np.ma.array(p,mask=mask_equator),rICB_dim*(1.-r), c=proxy2, s=10,cmap=cm, linewidth=0.5)\n",
    "#fig.gca().invert_yaxis()\n",
    "ax[0].set_xlim(0,180)\n",
    "ax[0].set_ylim(-2,200)\n",
    "ax[0].set_title(\"all data\")\n",
    "ax[1].set_title(\"depth 0-30km\")\n",
    "ax[2].set_title(\"depth 30-57.5km\")\n",
    "ax[3].set_title(\"depth 57.5-100km\")\n",
    "#fig.savefig(\"depth_fast-translation_Lauren.pdf\", bbox_inches='tight')"
   ]
  },
  {
   "cell_type": "markdown",
   "metadata": {},
   "source": [
    "## Real data from Lauren"
   ]
  },
  {
   "cell_type": "code",
   "execution_count": null,
   "metadata": {
    "collapsed": false
   },
   "outputs": [],
   "source": [
    "## real data set\n",
    "data_set2 = data.SeismicFromFile(\"results.dat\")\n",
    "data_set2.method = \"bt_point\"\n",
    "geodynModel.proxy_type = \"age\"\n",
    "proxy2 = geodyn.evaluate_proxy(data_set2, geodynModel, proxy_type=\"age\", verbose=False)\n",
    "\n",
    "## domain size and DV/V\n",
    "geodynModel.proxy_type = \"domain_size\"\n",
    "proxy2_size = geodyn.evaluate_proxy(data_set2, geodynModel, proxy_type=\"domain_size\", verbose=False)\n",
    "geodynModel.proxy_type = \"dV_V\"\n",
    "proxy2_dV = geodyn.evaluate_proxy(data_set2, geodynModel, proxy_type=\"dV_V\", verbose=False)"
   ]
  },
  {
   "cell_type": "code",
   "execution_count": null,
   "metadata": {
    "collapsed": false
   },
   "outputs": [],
   "source": [
    "r, t, p = data_set2.extract_rtp(\"bottom_turning_point\")\n",
    "dist = positions.angular_distance_to_point(t, p, *velocity_center)\n",
    "\n",
    "## map\n",
    "m, fig = plot_data.setting_map() \n",
    "#cm = plt.cm.get_cmap('RdYlBu')\n",
    "x, y = m(p, t)\n",
    "sc = m.scatter(x, y, c=proxy2, s=8, zorder=10, cmap=cm, edgecolors='none')\n",
    "plt.title(\"Dataset: {},\\n geodynamic model: {}\".format(data_set2.name, geodynModel.name))\n",
    "cbar = plt.colorbar(sc)\n",
    "cbar.set_label(\"age (Myears)\")\n",
    "fig.savefig('figures/map_fast_translation_Lauren.pdf', bbox_inches='tight')\n",
    "\n",
    "\n",
    "## phi and distance plots\n",
    "fig, ax = plt.subplots(2,2, figsize=(8.0, 5.0))\n",
    "\n",
    "sc1 = ax[0,0].scatter(p, proxy2, c=abs(t),s=3, cmap=cm2, vmin =-0, vmax =90, linewidth=0)\n",
    "phi = np.linspace(-180,180, 50)\n",
    "analytic_equator = np.maximum(2*np.sin((phi-10)*np.pi/180.)*rICB_dim*1e3/translation_velocity_dim /(np.pi*1e7)/1e6,0.)\n",
    "ax[0,0].plot(phi,analytic_equator, 'r', linewidth=2)\n",
    "ax[0,0].set_xlabel(\"longitude\")\n",
    "ax[0,0].set_ylabel(\"age (Myears)\")\n",
    "ax[0,0].set_ylim([-2,200])\n",
    "sc2 = ax[0,1].scatter(dist, proxy2, c=abs(t), cmap=cm2, vmin=-0, vmax =90, s=3, linewidth=0)\n",
    "ax[0,1].set_xlabel(\"angular distance to ({}, {})\".format(*velocity_center))\n",
    "phi = np.linspace(-90,90, 100)\n",
    "analytic_equator = np.maximum(2*np.sin((-phi)*np.pi/180.)*rICB_dim*1e3/translation_velocity_dim /(np.pi*1e7)/1e6,0.)\n",
    "ax[0,1].plot(phi+90,analytic_equator, 'r', linewidth=2)\n",
    "ax[0,1].set_xlim([0,180])\n",
    "ax[0,0].set_xlim([-180,180])\n",
    "#fig.suptitle(\"Dataset: {},\\n geodynamic model: {}\".format(data_set_random.name, geodynModel.name))\n",
    "cbar = fig.colorbar(sc1)\n",
    "cbar.set_label(\"longitude: abs(theta)\")\n",
    "ax[0,1].set_ylim([-2,200])\n",
    "sc3 = ax[1,0].scatter(dist, proxy2_size, c=abs(t), cmap=cm2, vmin =-0, vmax =90, s=3, linewidth=0)\n",
    "ax[1,0].set_xlabel(\"angular distance to ({}, {})\".format(*velocity_center))\n",
    "ax[1,0].set_ylabel(\"domain size (m)\")\n",
    "ax[1,0].set_xlim([0,180])\n",
    "ax[1,0].set_ylim([0, 2500.000])\n",
    "sc4 = ax[1,1].scatter(dist, proxy2_dV, c=abs(t), cmap=cm2, vmin=-0, vmax =90, s=3, linewidth=0)\n",
    "ax[1,1].set_xlabel(\"angular distance to ({}, {})\".format(*velocity_center))\n",
    "ax[1,1].set_ylabel(\"dV/V\")\n",
    "ax[1,1].set_xlim([0,180])\n",
    "ax[1,1].set_ylim([-0.017, -0.002])\n",
    "\n",
    "fig.savefig('figures/fast_translation_Lauren_long_dist.pdf', bbox_inches='tight')\n",
    "\n",
    "fig, ax = plt.subplots(figsize=(8, 2))\n",
    "sc=ax.scatter(p,rICB_dim*(1.-r), c=proxy2, s=10,cmap=cm, linewidth=0)\n",
    "ax.set_ylim(-0,120)\n",
    "fig.gca().invert_yaxis()\n",
    "ax.set_xlim(-180,180)\n",
    "cbar = fig.colorbar(sc)\n",
    "cbar.set_clim(0, maxAge)\n",
    "cbar.set_label(\"age (Myears)\")\n",
    "\n",
    "fig.savefig(\"figures/depth_fast-translation_Lauren.pdf\", bbox_inches='tight')"
   ]
  },
  {
   "cell_type": "code",
   "execution_count": null,
   "metadata": {
    "collapsed": false
   },
   "outputs": [],
   "source": []
  },
  {
   "cell_type": "markdown",
   "metadata": {},
   "source": [
    "## Real data sets"
   ]
  },
  {
   "cell_type": "code",
   "execution_count": null,
   "metadata": {
    "collapsed": false
   },
   "outputs": [],
   "source": [
    "residual = data_set2.real_residual()\n",
    "## map\n",
    "m, fig = plot_data.setting_map() \n",
    "# cm = plt.cm.get_cmap('seismic')\n",
    "x, y = m(p, t)\n",
    "sc = m.scatter(x, y, c=residual, s=8, zorder=10, cmap=cm, edgecolors='none')\n",
    "plt.title(\"Real residual from Lauren's data set\")\n",
    "cbar1 = plt.colorbar(sc)\n",
    "cbar1.set_label(\"Residuals\")\n",
    "plt.savefig(\"figures/map_residuals.pdf\")\n",
    "## phi and distance plots\n",
    "fig, ax = plt.subplots(1,2, sharey=True)\n",
    "sc1 = ax[0].scatter(p, residual, c=abs(t), cmap=cm2, vmin =-0, vmax =90)\n",
    "ax[0].set_xlabel(\"longitude\")\n",
    "ax[0].set_ylabel(\"residuals\")\n",
    "ax[0].set_xlim([-180, 180])\n",
    "sc2 = ax[1].scatter(dist, residual, c=abs(t), cmap=cm2, vmin=-0, vmax =90)\n",
    "ax[1].set_xlabel(\"angular distance to ({}, {})\".format(*velocity_center))\n",
    "ax[1].set_xlim([0, 180])\n",
    "fig.suptitle(\"Dataset: {},\\n geodynamic model: {}\".format(data_set_random.name, geodynModel.name))\n",
    "cbar2 = fig.colorbar(sc2)\n",
    "cbar2.set_label(\"latitude: abs(theta)\")\n",
    "\n",
    "\n"
   ]
  },
  {
   "cell_type": "markdown",
   "metadata": {},
   "source": [
    "## Spatial repartition"
   ]
  },
  {
   "cell_type": "code",
   "execution_count": null,
   "metadata": {
    "collapsed": false
   },
   "outputs": [],
   "source": [
    "data1 = data.RandomData(2000)\n",
    "r, t, p = data1.extract_rtp(\"bottom_turning_point\")\n",
    "fig = plt.figure()\n",
    "ax = fig.add_subplot(111)\n",
    "m = Basemap(projection='moll',lon_0=0.,resolution='c')\n",
    "m.drawcoastlines(linewidth=0.25)\n",
    " #m.drawcountries(linewidth=0.25)\n",
    "m.fillcontinents(color='#cc9966',lake_color='#99ffff')\n",
    "m.drawmapboundary(fill_color='#99ffff')\n",
    "x, y = m(p, t)\n",
    "sc = m.scatter(x, y, c='k', s=5,  zorder=10, cmap=cm, edgecolors='none')\n",
    "plt.savefig(\"figures/map_repartition_random.pdf\", bbox_inches='tight')\n",
    "\n",
    "data2 = data.SeismicFromFile(\"results.dat\")\n",
    "r, t, p = data2.extract_rtp(\"bottom_turning_point\")\n",
    "fig = plt.figure()\n",
    "ax = fig.add_subplot(111)\n",
    "m = Basemap(projection='moll',lon_0=0.,resolution='c')\n",
    "m.drawcoastlines(linewidth=0.25)\n",
    " #m.drawcountries(linewidth=0.25)\n",
    "m.fillcontinents(color='#cc9966',lake_color='#99ffff')\n",
    "m.drawmapboundary(fill_color='#99ffff')\n",
    "x, y = m(p, t)\n",
    "sc = m.scatter(x, y, c='k', s=5,  zorder=10, cmap=cm, edgecolors='none')\n",
    "plt.savefig(\"figures/map_repartition_Lauren.pdf\", bbox_inches='tight')"
   ]
  },
  {
   "cell_type": "code",
   "execution_count": null,
   "metadata": {
    "collapsed": false
   },
   "outputs": [],
   "source": [
    "from mpl_toolkits.axes_grid1 import make_axes_locatable\n",
    "\n",
    "color = dist\n",
    "fig, ax = plt.subplots(figsize=(8, 8))\n",
    "ax.scatter(p,t, c=dist>90, linewidth=0)\n",
    "ax.set_xlabel(\"longitude\")\n",
    "ax.set_ylabel(\"latitude\")\n",
    "\n",
    "\n",
    "#to add histograms to see the actual repartition. Please see http://matplotlib.org/examples/axes_grid/scatter_hist.html\n",
    "divider = make_axes_locatable(ax)\n",
    "axHistx = divider.append_axes(\"top\", 1.2, pad=0.1, sharex=ax)\n",
    "axHisty = divider.append_axes(\"right\", 1.2, pad=0.1, sharey=ax)\n",
    "plt.setp(axHistx.get_xticklabels() + axHisty.get_yticklabels(),\n",
    "         visible=False)\n",
    "binwidth = 10.\n",
    "limX = (int(180./binwidth) + 1)*binwidth\n",
    "limY = (int(90./binwidth) + 1)*binwidth\n",
    "binsX = np.arange(-limX, limX + binwidth, binwidth)\n",
    "binsY = np.arange(-limY, limY + binwidth, binwidth)\n",
    "axHistx.hist(p, bins=binsX)\n",
    "axHisty.hist(t, bins=binsY, orientation='horizontal')\n",
    "#axHistx.axis[\"bottom\"].major_ticklabels.set_visible(False)\n",
    "for tl in axHistx.get_xticklabels():\n",
    "    tl.set_visible(False)\n",
    "axHistx.set_yticks([0, 100, 200, 300])\n",
    "#axHisty.axis[\"left\"].major_ticklabels.set_visible(False)\n",
    "for tl in axHisty.get_yticklabels():\n",
    "    tl.set_visible(False)\n",
    "axHisty.set_xticks([0, 300, 600])\n",
    "ax.set_aspect('equal')\n",
    "ax.axis([-180, 180, -90, 90])\n",
    "ax.plot([-180,180],[15,15], 'k')\n",
    "ax.plot([-180,180],[-15,-15],'k')\n",
    "plt.savefig(\"figures/t-p_repartition.pdf\", bbox_inches='tight')"
   ]
  },
  {
   "cell_type": "code",
   "execution_count": null,
   "metadata": {
    "collapsed": false
   },
   "outputs": [],
   "source": [
    "fig, ax = plt.subplots(4,1, sharex=True, sharey=True,figsize=(8, 8))\n",
    "binwidth = 5.\n",
    "lim = (int(180./binwidth) + 1)*binwidth\n",
    "bins = np.arange(0, lim + binwidth, binwidth)\n",
    "ax[0].hist(dist, bins=bins)\n",
    "ax[0].axis([0, 180, 0, 400])\n",
    "ax[0].set_title(\"Repartition of the rays as function of angular distance from point (100,0)\")\n",
    "dist_N = np.ma.array(dist, mask=t>0)\n",
    "ax[1].hist(dist_N.compressed(), bins=bins)\n",
    "ax[1].set_title(\"latitude <0 (southern hemisphere)\")\n",
    "dist_S = np.ma.array(dist, mask=t<0)\n",
    "ax[2].hist(dist_S.compressed(), bins=bins)\n",
    "ax[2].set_title(\"latitude >0 (northern hemisphere)\")\n",
    "dist_E = np.ma.array(dist, mask=np.ma.getmask(np.ma.masked_outside(t, -15,15)))\n",
    "ax[3].hist(dist_E.compressed(), bins=bins)\n",
    "ax[3].set_title(\"latitude between -15 and 15 (equator region)\")\n",
    "\n",
    "fig.savefig(\"figures/dist_repartition.pdf\", bbox_inches='tight')"
   ]
  },
  {
   "cell_type": "code",
   "execution_count": null,
   "metadata": {
    "collapsed": false
   },
   "outputs": [],
   "source": [
    "## map\n",
    "m, fig = plot_data.setting_map() \n",
    "# cm = plt.cm.get_cmap('seismic')\n",
    "x, y = m(p, t)\n",
    "sc = m.scatter(x, y, c=dist, zorder=10, cmap=cm, edgecolors='none')\n",
    "cbar1 = plt.colorbar(sc)\n",
    "cbar1.set_label(\"angular distance from (0,100)\")\n",
    "plt.savefig(\"figures/map_dist_Lauren_repartition.pdf\")"
   ]
  },
  {
   "cell_type": "code",
   "execution_count": null,
   "metadata": {
    "collapsed": false
   },
   "outputs": [],
   "source": [
    "fig, ax = plt.subplots(4,1, sharex=True, sharey=True,figsize=(8, 8))\n",
    "# cm = plt.cm.get_cmap('seismic')\n",
    "ax[0].scatter(p,rICB_dim*(1.-r), c=residual, s=10,cmap=cm, linewidth=0.5)\n",
    "mask_south = t>10\n",
    "ax[1].scatter(np.ma.array(p,mask=mask_south),rICB_dim*(1.-r), c=residual, s=10,cmap=cm, linewidth=0.5)\n",
    "mask_north = t<-10\n",
    "ax[2].scatter(np.ma.array(p,mask=mask_north),rICB_dim*(1.-r), c=residual, s=10,cmap=cm, linewidth=0.5)\n",
    "mask_equator = np.ma.getmask(np.ma.masked_outside(t, -15,15))\n",
    "ax[3].scatter(np.ma.array(p,mask=mask_equator),rICB_dim*(1.-r), c=residual, s=10,cmap=cm, linewidth=0.5)\n",
    "fig.gca().invert_yaxis()\n",
    "ax[0].set_xlim(-180,180)\n",
    "ax[0].set_title(\"All data\")\n",
    "ax[1].set_title(\"South\")\n",
    "ax[2].set_title(\"North\")\n",
    "ax[3].set_title(\"Equator region\")\n",
    "plt.savefig(\"./figures/phi-depth.pdf\")"
   ]
  },
  {
   "cell_type": "code",
   "execution_count": null,
   "metadata": {
    "collapsed": false
   },
   "outputs": [],
   "source": []
  },
  {
   "cell_type": "code",
   "execution_count": null,
   "metadata": {
    "collapsed": false
   },
   "outputs": [],
   "source": [
    "fig, ax = plt.subplots()\n",
    "plt.scatter(residual, proxy2, c=dist)"
   ]
  },
  {
   "cell_type": "code",
   "execution_count": null,
   "metadata": {
    "collapsed": false
   },
   "outputs": [],
   "source": [
    "fig, ax = plt.subplots(figsize=(6, 2))\n",
    "sc=ax.scatter(p,rICB_dim*(1.-r), c=t, s=10,cmap=cm2, linewidth=0.1)\n",
    "ax.set_ylim(-0,120)\n",
    "fig.gca().invert_yaxis()\n",
    "ax.set_xlim(-180,180)\n",
    "cbar = fig.colorbar(sc)\n",
    "cbar.set_label(\"longitude: abs(theta)\")\n",
    "#cbar.set_clim(0, maxAge)\n",
    "\n",
    "fig.savefig(\"figures/repartition_Lauren_depth_latitude.pdf\", bbox_inches='tight')"
   ]
  },
  {
   "cell_type": "code",
   "execution_count": null,
   "metadata": {
    "collapsed": false,
    "scrolled": false
   },
   "outputs": [],
   "source": []
  },
  {
   "cell_type": "code",
   "execution_count": null,
   "metadata": {
    "collapsed": false
   },
   "outputs": [],
   "source": [
    "fig, ax = plt.subplots(figsize=(8, 2))\n",
    "sc=ax.scatter(p,rICB_dim*(1.-r), c=t, s=10,cmap=cm, linewidth=0)\n",
    "ax.set_ylim(-0,120)\n",
    "fig.gca().invert_yaxis()\n",
    "ax.set_xlim(-180,180)\n",
    "cbar = fig.colorbar(sc)\n",
    "cbar.set_label(\"latitude: abs(theta)\")\n"
   ]
  },
  {
   "cell_type": "code",
   "execution_count": null,
   "metadata": {
    "collapsed": true
   },
   "outputs": [],
   "source": []
  },
  {
   "cell_type": "code",
   "execution_count": null,
   "metadata": {
    "collapsed": false
   },
   "outputs": [],
   "source": []
  },
  {
   "cell_type": "markdown",
   "metadata": {
    "collapsed": true
   },
   "source": [
    "## Spatial repartition"
   ]
  },
  {
   "cell_type": "code",
   "execution_count": null,
   "metadata": {
    "collapsed": false
   },
   "outputs": [],
   "source": []
  },
  {
   "cell_type": "markdown",
   "metadata": {},
   "source": [
    "## meshgrid of the equatorial upper part"
   ]
  },
  {
   "cell_type": "code",
   "execution_count": null,
   "metadata": {
    "collapsed": false
   },
   "outputs": [],
   "source": [
    "data_meshgrid = data.Equator_upperpart(150,150)\n",
    "data_meshgrid.method = \"bt_point\"\n",
    "proxy_meshgrid = geodyn.evaluate_proxy(data_meshgrid, geodynModel, proxy_type=\"age\", verbose = False)\n",
    "r, t, p = data_meshgrid.extract_rtp(\"bottom_turning_point\")"
   ]
  },
  {
   "cell_type": "code",
   "execution_count": null,
   "metadata": {
    "collapsed": false
   },
   "outputs": [],
   "source": [
    "fig3, ax3 = plt.subplots(figsize=(8, 2))\n",
    "X, Y, Z  = data_meshgrid.mesh_RPProxy(proxy_meshgrid)\n",
    "sc = ax3.contourf(Y, rICB_dim*(1.-X), Z, 100, cmap=cm)\n",
    "sc2 = ax3.contour(sc, levels=sc.levels[::15], colors = \"k\")\n",
    "ax3.set_ylim(-0, 120)\n",
    "fig3.gca().invert_yaxis()\n",
    "ax3.set_xlim(-180,180)\n",
    "cbar = fig3.colorbar(sc)\n",
    "#cbar.set_clim(0, maxAge)\n",
    "cbar.set_label(\"age (Myears)\")\n",
    "\n",
    "plt.savefig(\"figures/meshgrid_fasttranslation.pdf\", bbox_inches='tight')"
   ]
  },
  {
   "cell_type": "code",
   "execution_count": null,
   "metadata": {
    "collapsed": true
   },
   "outputs": [],
   "source": []
  }
 ],
 "metadata": {
  "kernelspec": {
   "display_name": "Python 3",
   "language": "python",
   "name": "python3"
  },
  "language_info": {
   "codemirror_mode": {
    "name": "ipython",
    "version": 3
   },
   "file_extension": ".py",
   "mimetype": "text/x-python",
   "name": "python",
   "nbconvert_exporter": "python",
   "pygments_lexer": "ipython3",
   "version": "3.5.1"
  }
 },
 "nbformat": 4,
 "nbformat_minor": 1
}
