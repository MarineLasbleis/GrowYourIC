{
 "cells": [
  {
   "cell_type": "code",
   "execution_count": 1,
   "metadata": {
    "collapsed": true
   },
   "outputs": [],
   "source": [
    "# Slow translation + translation"
   ]
  },
  {
   "cell_type": "code",
   "execution_count": 2,
   "metadata": {
    "collapsed": true
   },
   "outputs": [],
   "source": [
    "%matplotlib inline\n",
    "\n",
    "# import statements\n",
    "import numpy as np\n",
    "import matplotlib.pyplot as plt #for figures\n",
    "from mpl_toolkits.basemap import Basemap #to render maps\n",
    "import math\n",
    "\n",
    "import GrowYourIC\n",
    "from GrowYourIC import positions, geodyn, geodyn_trg, geodyn_static, plot_data, data\n",
    "\n",
    "plt.rcParams['figure.figsize'] = (8.0, 3.0) # (15.0, 5.0) #size of figures\n",
    "cm = plt.cm.get_cmap('viridis')"
   ]
  },
  {
   "cell_type": "markdown",
   "metadata": {},
   "source": [
    "To model Aubert version, where one side is growing at lower rate than the other side. \n",
    "\n",
    "Translation velocity in this case is of same order of magnitude than growth rate.\n",
    "\n",
    "For example, let's use v_t = 0.5 v_g\n",
    "\n",
    "- growth: constant growth rate. exponent_growth = 1.\n",
    "- growth rate: rICB/age_icb\n",
    "- velocity_translation: 0.5 growth rate"
   ]
  },
  {
   "cell_type": "code",
   "execution_count": 3,
   "metadata": {
    "collapsed": false
   },
   "outputs": [
    {
     "name": "stdout",
     "output_type": "stream",
     "text": [
      "The growth rate is 1.22e-06 km/years and the translation velocity 9.77e-07 km/years\n"
     ]
    }
   ],
   "source": [
    "age_ic_dim = 1e9 #in years\n",
    "rICB_dim = 1221. #in km\n",
    "v_g_dim = rICB_dim/age_ic_dim # in km/years\n",
    "translation_velocity_dim = 0.8 *v_g_dim #in km/years\n",
    "print(\"The growth rate is {0:.2e} km/years and the translation velocity {1:.2e} km/years\".format(v_g_dim, translation_velocity_dim))"
   ]
  },
  {
   "cell_type": "code",
   "execution_count": null,
   "metadata": {
    "collapsed": false
   },
   "outputs": [],
   "source": []
  },
  {
   "cell_type": "code",
   "execution_count": null,
   "metadata": {
    "collapsed": false
   },
   "outputs": [],
   "source": []
  },
  {
   "cell_type": "code",
   "execution_count": null,
   "metadata": {
    "collapsed": true
   },
   "outputs": [],
   "source": []
  },
  {
   "cell_type": "code",
   "execution_count": 4,
   "metadata": {
    "collapsed": false
   },
   "outputs": [],
   "source": [
    "geodynModel = geodyn_trg.TranslationGrowthRotation()\n",
    "units = None #we give them already dimensionless parameters. \n",
    "rICB = 1.\n",
    "age_ic = 1.\n",
    "omega = 0.8*np.pi # Rotation rates has to be in ]-np.pi, np.pi[\n",
    "velocity_amplitude = translation_velocity_dim*age_ic_dim/rICB_dim\n",
    "velocity_center = [0., 100.]#center of the eastern hemisphere\n",
    "velocity = geodyn_trg.translation_velocity(velocity_center, velocity_amplitude)\n",
    "exponent_growth = 1."
   ]
  },
  {
   "cell_type": "code",
   "execution_count": 5,
   "metadata": {
    "collapsed": false
   },
   "outputs": [
    {
     "name": "stdout",
     "output_type": "stream",
     "text": [
      "In the code, we need to use dimensionless parameters: \n",
      " rICB = 1.0 \n",
      " age_ic = 1.0 \n",
      " omega = 2.5132741228718345\n",
      " velocity_amplitude = 0.8 \n",
      " exponent_growth = 1.0\n"
     ]
    }
   ],
   "source": [
    "print(\"In the code, we need to use dimensionless parameters: \\n rICB = {} \\n age_ic = {} \\n omega = {}\\n velocity_amplitude = {} \\n exponent_growth = {}\".format(rICB, age_ic, omega, translation_velocity_dim*age_ic_dim/rICB_dim, exponent_growth))"
   ]
  },
  {
   "cell_type": "code",
   "execution_count": null,
   "metadata": {
    "collapsed": true
   },
   "outputs": [],
   "source": [
    "parameters = {'units': units,\n",
    "              'time_unit': age_ic_dim, #in years\n",
    "              'length_unit': rICB_dim*1e3, #in meters\n",
    "              'rICB': rICB, \n",
    "              'tau_ic':age_ic,\n",
    "              'vt': velocity,\n",
    "              'exponent_growth': exponent_growth,\n",
    "              'omega': omega}\n",
    "geodynModel.set_parameters(parameters)\n",
    "geodynModel.define_units()"
   ]
  },
  {
   "cell_type": "markdown",
   "metadata": {},
   "source": [
    "## Visualise flow lines\n",
    "with perfect sampling at the equator"
   ]
  },
  {
   "cell_type": "code",
   "execution_count": null,
   "metadata": {
    "collapsed": false
   },
   "outputs": [
    {
     "name": "stdout",
     "output_type": "stream",
     "text": [
      "===\n",
      "== Evaluate value of proxy for all points of the data set \n",
      "= Geodynamic model isi Translation, Rotation and Growth\n",
      "= Proxy is age\n",
      "= Data set is Perfect sampling in the equatorial plane\n",
      "= Proxy is evaluated for bt_point\n",
      "= Number of points to examine: 17420\n"
     ]
    },
    {
     "name": "stderr",
     "output_type": "stream",
     "text": [
      "/usr/local/lib/python3.5/site-packages/scipy/integrate/_ode.py:1035: UserWarning: dopri5: step size becomes too small\n",
      "  self.messages.get(idid, 'Unexpected idid=%s' % idid))\n"
     ]
    }
   ],
   "source": [
    "npoints = 150 #number of points in the x direction for the data set. \n",
    "data_set = data.PerfectSamplingEquator(npoints, rICB = 1.)\n",
    "data_set.method = \"bt_point\"\n",
    "proxy = geodyn.evaluate_proxy(data_set, geodynModel, proxy_type=\"age\", verbose = False)\n",
    "data_set.plot_c_vec(geodynModel, proxy=proxy, cm=plt.cm.get_cmap(\"RdYlBu\"), nameproxy=\"age (Myears)\")\n",
    "plt.savefig(\"figures/flow_slow-translation-rot_random.pdf\", bbox_inches='tight')"
   ]
  },
  {
   "cell_type": "markdown",
   "metadata": {},
   "source": [
    "## Random repartition (in the first 100km)\n",
    "\n",
    "### with proxy = age"
   ]
  },
  {
   "cell_type": "code",
   "execution_count": null,
   "metadata": {
    "collapsed": false
   },
   "outputs": [],
   "source": [
    "# random data set\n",
    "data_set_random = data.RandomData(3000)\n",
    "data_set_random.method = \"bt_point\"\n",
    "\n",
    "proxy_random = geodyn.evaluate_proxy(data_set_random, geodynModel, proxy_type=\"age\", verbose=False)\n",
    "r, t, p = data_set_random.extract_rtp(\"bottom_turning_point\")\n",
    "dist = positions.angular_distance_to_point(t, p, *velocity_center)\n",
    "\n",
    "## map\n",
    "m, fig = plot_data.setting_map() \n",
    "x, y = m(p, t)\n",
    "sc = m.scatter(x, y, c=proxy_random, zorder=10, cmap=cm, edgecolors='none')\n",
    "plt.title(\"Dataset: {},\\n geodynamic model: {}\".format(data_set_random.name, geodynModel.name))\n",
    "cbar = plt.colorbar(sc)\n",
    "cbar.set_label(\"age (Myears)\")\n",
    "\n",
    "## phi and distance plots\n",
    "fig, ax = plt.subplots(1,2, sharey=True)\n",
    "cm2 = plt.cm.get_cmap('winter')\n",
    "sc1 = ax[0].scatter(p, proxy_random, c=abs(t), cmap=cm2, vmin =-0, vmax =90)\n",
    "ax[0].set_xlabel(\"longitude\")\n",
    "ax[0].set_ylabel(\"age (Myears)\")\n",
    "sc2 = ax[1].scatter(dist, proxy_random, c=abs(t), cmap=cm2, vmin=-0, vmax =90)\n",
    "ax[1].set_xlabel(\"angular distance to ({}, {})\".format(*velocity_center))\n",
    "fig.suptitle(\"Dataset: {},\\n geodynamic model: {}\".format(data_set_random.name, geodynModel.name))\n",
    "cbar = fig.colorbar(sc2)\n",
    "cbar.set_label(\"longitude: abs(theta)\")\n"
   ]
  },
  {
   "cell_type": "markdown",
   "metadata": {},
   "source": [
    "### with proxy = growth rate"
   ]
  },
  {
   "cell_type": "code",
   "execution_count": null,
   "metadata": {
    "collapsed": false
   },
   "outputs": [],
   "source": [
    "# random data set\n",
    "data_set_random = data.RandomData(3000)\n",
    "data_set_random.method = \"bt_point\"\n",
    "\n",
    "proxy_random = geodyn.evaluate_proxy(data_set_random, geodynModel, proxy_type=\"growth rate\", verbose=False)\n",
    "r, t, p = data_set_random.extract_rtp(\"bottom_turning_point\")\n",
    "dist = positions.angular_distance_to_point(t, p, *velocity_center)\n",
    "\n",
    "## map\n",
    "m, fig = plot_data.setting_map() \n",
    "x, y = m(p, t)\n",
    "sc = m.scatter(x, y, c=proxy_random, zorder=10, cmap=cm, edgecolors='none')\n",
    "plt.title(\"Dataset: {},\\n geodynamic model: {}\".format(data_set_random.name, geodynModel.name))\n",
    "cbar = plt.colorbar(sc)\n",
    "cbar.set_label(\"growth rate (km/Myears)\")\n",
    "fig.savefig(\"figures/map_slow-translation_random.pdf\", bbox_inches='tight')\n",
    "\n",
    "## phi and distance plots\n",
    "fig, ax = plt.subplots(1,2, sharey=True)\n",
    "cm2 = plt.cm.get_cmap('magma_r')\n",
    "sc1 = ax[0].scatter(p, proxy_random, c=abs((1-r)*1221), cmap=cm2, s=1, linewidth=0)\n",
    "ax[0].set_xlabel(\"longitude\")\n",
    "ax[0].set_ylabel(\"growth rate (km/Myears)\")\n",
    "sc2 = ax[1].scatter(dist, proxy_random, c=abs((1-r)*1221), cmap=cm2, s=1, linewidth=0)\n",
    "ax[1].set_xlabel(\"angular distance to ({}, {})\".format(*velocity_center))\n",
    "fig.suptitle(\"Dataset: {},\\n geodynamic model: {}\".format(data_set_random.name, geodynModel.name))\n",
    "cbar = fig.colorbar(sc2)\n",
    "cbar.set_label(\"depth (km)\")\n",
    "ax[0].set_xlim([-180,180])\n",
    "ax[1].set_xlim([0,180])\n",
    "ax[0].set_ylim([0.15, 1.82])\n",
    "#ax[0].set_ylim([0., 2.5e-3])\n",
    "fig.savefig(\"figures/dist_slow-translation-rot_random.pdf\", bbox_inches='tight')"
   ]
  },
  {
   "cell_type": "code",
   "execution_count": null,
   "metadata": {
    "collapsed": false
   },
   "outputs": [],
   "source": [
    "fig, ax = plt.subplots(figsize=(8, 2))\n",
    "sc=ax.scatter(p,rICB_dim*(1.-r), c=proxy_random, s=10,cmap=cm, linewidth=0)\n",
    "ax.set_ylim(-0,120)\n",
    "fig.gca().invert_yaxis()\n",
    "ax.set_xlim(-180,180)\n",
    "cbar = fig.colorbar(sc)\n",
    "cbar.set_label(\"growth rate (km/Myears)\")\n",
    "\n",
    "fig.savefig(\"figures/depth_slow-translation-rot_random.pdf\", bbox_inches='tight')"
   ]
  },
  {
   "cell_type": "code",
   "execution_count": null,
   "metadata": {
    "collapsed": false
   },
   "outputs": [],
   "source": [
    "proxy_random = geodyn.evaluate_proxy(data_set_random, geodynModel, proxy_type=\"growth rate\", verbose=False)\n",
    "r, t, p = data_set_random.extract_rtp(\"bottom_turning_point\")\n",
    "dist = positions.angular_distance_to_point(t, p, *velocity_center)\n",
    "\n",
    "## map\n",
    "m, fig = plot_data.setting_map() \n",
    "x, y = m(p, t)\n",
    "sc = m.scatter(x, y, c=proxy_random, zorder=10, cmap=cm, edgecolors='none')\n",
    "plt.title(\"Dataset: {},\\n geodynamic model: {}\".format(data_set_random.name, geodynModel.name))\n",
    "cbar = plt.colorbar(sc)\n",
    "cbar.set_label(\"growth rate (km/Myears)\")\n",
    "fig.savefig(\"figures/map_slow-translation_random.pdf\", bbox_inches='tight')\n",
    "\n",
    "## phi and distance plots\n",
    "fig, ax = plt.subplots(1,2, sharey=True)\n",
    "cm2 = plt.cm.get_cmap('winter')\n",
    "sc1 = ax[0].scatter(p, proxy_random, c=abs(t), cmap=cm2, vmin =-0, vmax =90)\n",
    "ax[0].set_xlabel(\"longitude\")\n",
    "ax[0].set_ylabel(\"growth rate (km/Myears)\")\n",
    "sc2 = ax[1].scatter(dist, proxy_random, c=abs(t), cmap=cm2, vmin=-0, vmax =90)\n",
    "ax[1].set_xlabel(\"angular distance to ({}, {})\".format(*velocity_center))\n",
    "fig.suptitle(\"Dataset: {},\\n geodynamic model: {}\".format(data_set_random.name, geodynModel.name))\n",
    "cbar = fig.colorbar(sc2)\n",
    "cbar.set_label(\"longitude: abs(theta)\")\n",
    "#ax[0].set_ylim([0., 2.5e-3])\n",
    "fig.savefig(\"figures/dist_slow-translation_random.pdf\", bbox_inches='tight')"
   ]
  },
  {
   "cell_type": "code",
   "execution_count": null,
   "metadata": {
    "collapsed": false
   },
   "outputs": [],
   "source": [
    "fig, ax = plt.subplots(4,1, sharex=True, sharey=True,figsize=(8, 8))\n",
    "cm = plt.cm.get_cmap('viridis')\n",
    "depth = (1-r)*1221.\n",
    "ax[0].scatter(dist, proxy_random, s=1,cmap=cm, linewidth=0)\n",
    "mask_0_30 = depth<30\n",
    "mask_30_575 = np.ma.getmask(np.ma.masked_outside(depth,30, 57.5))\n",
    "mask_575_100 = depth>57.5\n",
    "#print(mask_0_30.shape, dist.shape, np.ma.array(dist, mask=mask_0_30))\n",
    "ax[1].scatter(np.ma.array(dist, mask=mask_0_30), proxy_random, s=1,cmap=cm, linewidth=0)\n",
    "ax[2].scatter(np.ma.array(dist, mask=mask_30_575), proxy_random, s=1,cmap=cm, linewidth=0)\n",
    "ax[3].scatter(np.ma.array(dist, mask=mask_575_100), proxy_random, s=1,cmap=cm, linewidth=0)\n",
    "#ax[1].scatter(np.ma.array(p,mask=mask_south),rICB_dim*(1.-r), c=proxy2, s=10,cmap=cm, linewidth=0.5)\n",
    "#mask_north = t<-10\n",
    "#ax[2].scatter(np.ma.array(p,mask=mask_north),rICB_dim*(1.-r), c=proxy2, s=10,cmap=cm, linewidth=0.5)\n",
    "##mask_equator = np.ma.getmask(np.ma.masked_outside(t, -15,15))\n",
    "#ax[3].scatter(np.ma.array(p,mask=mask_equator),rICB_dim*(1.-r), c=proxy2, s=10,cmap=cm, linewidth=0.5)\n",
    "#fig.gca().invert_yaxis()\n",
    "ax[0].set_xlim(0,180)\n",
    "ax[0].set_ylim(0.,1.8)\n",
    "ax[0].set_title(\"all data\")\n",
    "ax[1].set_title(\"depth 0-30km\")\n",
    "ax[2].set_title(\"depth 30-57.5km\")\n",
    "ax[3].set_title(\"depth 57.5-100km\")\n",
    "fig.savefig(\"figures/dist_severaldepths_TransRot_random.pdf\", bbox_inches='tight')"
   ]
  },
  {
   "cell_type": "code",
   "execution_count": null,
   "metadata": {
    "collapsed": false
   },
   "outputs": [],
   "source": [
    "data_meshgrid = data.Equator_upperpart(50,50)\n",
    "data_meshgrid.method = \"bt_point\"\n",
    "proxy_meshgrid = geodyn.evaluate_proxy(data_meshgrid, geodynModel, proxy_type=\"growth rate\", verbose = False)\n",
    "r, t, p = data_meshgrid.extract_rtp(\"bottom_turning_point\")"
   ]
  },
  {
   "cell_type": "code",
   "execution_count": null,
   "metadata": {
    "collapsed": false
   },
   "outputs": [],
   "source": [
    "fig3, ax3 = plt.subplots(figsize=(8, 2))\n",
    "X, Y, Z  = data_meshgrid.mesh_RPProxy(proxy_meshgrid)\n",
    "sc = ax3.contourf(Y, rICB_dim*(1.-X), Z, 100, cmap=cm)\n",
    "sc2 = ax3.contour(sc, levels=sc.levels[::15], colors = \"k\")\n",
    "ax3.set_ylim(-0, 120)\n",
    "fig3.gca().invert_yaxis()\n",
    "ax3.set_xlim(-180,180)\n",
    "cbar = fig3.colorbar(sc)\n",
    "#cbar.set_clim(0, maxAge)\n",
    "#cbar.set_clim(0, maxAge)\n",
    "cbar.set_label(\"growth rate (km/Myears)\")\n",
    "\n",
    "plt.savefig(\"figures/meshgrid_slowtranslation_rotation.pdf\", bbox_inches='tight')"
   ]
  },
  {
   "cell_type": "code",
   "execution_count": null,
   "metadata": {
    "collapsed": true
   },
   "outputs": [],
   "source": []
  }
 ],
 "metadata": {
  "kernelspec": {
   "display_name": "Python 3",
   "language": "python",
   "name": "python3"
  },
  "language_info": {
   "codemirror_mode": {
    "name": "ipython",
    "version": 3
   },
   "file_extension": ".py",
   "mimetype": "text/x-python",
   "name": "python",
   "nbconvert_exporter": "python",
   "pygments_lexer": "ipython3",
   "version": "3.5.1"
  }
 },
 "nbformat": 4,
 "nbformat_minor": 1
}
